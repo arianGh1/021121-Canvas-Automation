{
 "cells": [
  {
   "cell_type": "code",
   "execution_count": 75,
   "id": "d747c27b-3512-4049-9a82-d991f41ce08a",
   "metadata": {},
   "outputs": [],
   "source": [
    "import time\n",
    "import requests\n",
    "from selenium import webdriver\n",
    "from bs4 import BeautifulSoup\n",
    "from urllib.parse import urljoin\n",
    "import csv\n",
    "import pickle\n",
    "import numpy as np\n",
    "import pandas as pd\n",
    "import pickle\n",
    "from selenium.webdriver.common.by import By\n",
    "from datetime import datetime\n",
    "from selenium.webdriver.chrome.options import Options\n",
    "from selenium.webdriver.common.by import By\n",
    "import os\n",
    "from random import randint\n",
    "from selenium.webdriver.chrome.service import Service\n",
    "from webdriver_manager.chrome import ChromeDriverManager\n",
    "from selenium.webdriver.common.keys import Keys\n",
    "from datetime import datetime\n",
    "field = \"Exotic Pets\""
   ]
  },
  {
   "cell_type": "code",
   "execution_count": 76,
   "id": "03818298-fdb4-4cb6-a26c-eea9a55e6882",
   "metadata": {},
   "outputs": [],
   "source": [
    "options = Options()\n",
    "\n",
    "options.add_argument('--user-data-dir=/Users/Arian_Gh/AppData/Local/Google/Chrome/User Data/') \n",
    "options.add_argument('--profile-directory=Profile 11')\n",
    "\n",
    "options.add_argument('--disable-blink-features=AutomationControlled')\n",
    "options.add_argument(\"--start-maximized\")\n",
    "\n",
    "options.add_argument('disable-infobars')\n",
    "options.add_experimental_option(\"excludeSwitches\", [\"enable-automation\"])\n",
    "options.add_experimental_option('useAutomationExtension', False)\n",
    "options.add_argument(\"--remote-debugging-port=9222\")\n",
    "\n",
    "prefs = {\n",
    "    \"download.default_directory\":os.path.join( os.getcwd(),'Downs'),\n",
    "    \"download.prompt_for_download\": False,\n",
    "    \"download.directory_upgrade\": True,\n",
    "    \"safebrowsing.enabled\": True\n",
    "}\n",
    "options.add_experimental_option(\"prefs\", prefs)\n",
    "\n"
   ]
  },
  {
   "cell_type": "code",
   "execution_count": 77,
   "id": "37d232f1-de00-4ed5-9703-c1f4937d7d99",
   "metadata": {},
   "outputs": [],
   "source": [
    "driver = webdriver.Chrome(options=options)\n",
    "driver.maximize_window()"
   ]
  },
  {
   "cell_type": "code",
   "execution_count": null,
   "id": "4eeae9c2-92b4-4ef0-bf82-f1954587096a",
   "metadata": {},
   "outputs": [],
   "source": [
    "time.sleep(2)\n",
    "driver.get('https://www.canva.com/design/DAF8ZAbX2QA/iWN4RirO5r1jRpKUX8Untw/edit')"
   ]
  },
  {
   "cell_type": "code",
   "execution_count": 56,
   "id": "636e27df-e9ca-4881-bf9e-80897dc7038a",
   "metadata": {},
   "outputs": [],
   "source": [
    "time.sleep(3)\n",
    "time.sleep(randint(1,5))\n",
    "bulk_btns = driver.find_elements(By.CLASS_NAME, \"Ve4yyQ\")\n",
    "bulk_btns[-1].click()"
   ]
  },
  {
   "cell_type": "code",
   "execution_count": 58,
   "id": "eb513ede-63e7-4bd1-9b56-f90c31d3a47a",
   "metadata": {},
   "outputs": [],
   "source": [
    "time.sleep(5)\n",
    "file_input = driver.find_element(By.CSS_SELECTOR,\"input[type='file']\")\n",
    "\n",
    "# Now send the file path directly to this input element\n",
    "file_path = \"/Exotic Pets.csv\"  \n",
    "time.sleep(randint(1,4))\n",
    "file_input.send_keys(os.getcwd(),file_path)"
   ]
  },
  {
   "cell_type": "code",
   "execution_count": 60,
   "id": "758b608f-ad8a-4ad4-beec-6c7f5116d702",
   "metadata": {},
   "outputs": [],
   "source": [
    "time.sleep(4)\n",
    "continue_btn = driver.find_element(By.CLASS_NAME,\"iVUNpg\")\n",
    "time.sleep(randint(1,3))\n",
    "continue_btn.click()"
   ]
  },
  {
   "cell_type": "code",
   "execution_count": 61,
   "id": "feb8ef35-e92c-46ed-9e54-8c28b942a492",
   "metadata": {},
   "outputs": [],
   "source": [
    "time.sleep(4)\n",
    "generate_btn = driver.find_element(By.CLASS_NAME,\"iVUNpg\")\n",
    "time.sleep(randint(1,3))\n",
    "generate_btn.click()"
   ]
  },
  {
   "cell_type": "code",
   "execution_count": 62,
   "id": "ca5b9e2d-0830-4212-8e3a-856b35575a5c",
   "metadata": {},
   "outputs": [],
   "source": [
    "time.sleep(2)\n",
    "driver.switch_to.window(driver.window_handles[1])"
   ]
  },
  {
   "cell_type": "code",
   "execution_count": 65,
   "id": "1cfd1c75-03c1-4b41-9011-ecb9cb62bb94",
   "metadata": {},
   "outputs": [],
   "source": [
    "\n",
    "time.sleep(3)\n",
    "input_element = driver.find_element(By.CLASS_NAME, \"EWbX5g\")\n",
    "t\n",
    "input_element.clear()\n",
    "time.sleep(3)\n",
    "now = datetime.now()\n",
    "date_time_str = now.strftime(\"%Y%m%d-%H%M%S\")\n",
    "project_name = field + date_time_str\n",
    "\n",
    "input_element.send_keys(project_name)"
   ]
  },
  {
   "cell_type": "code",
   "execution_count": 71,
   "id": "0451da07-056d-405f-8788-8532a56f5cd6",
   "metadata": {},
   "outputs": [],
   "source": [
    "time.sleep(3)\n",
    "share_btn = driver.find_element(By.CLASS_NAME,\"fTSnxg\")\n",
    "time.sleep(randint(1,5))\n",
    "share_btn.click()"
   ]
  },
  {
   "cell_type": "code",
   "execution_count": 72,
   "id": "a160cb7a-ab29-4a1c-9583-6a3c7be0d7a2",
   "metadata": {},
   "outputs": [],
   "source": [
    "time.sleep(2)\n",
    "time.sleep(randint(1,5))\n",
    "download_btn = driver.find_element(By.CSS_SELECTOR, \"button[aria-label='Download']\")\n",
    "download_btn.click()"
   ]
  },
  {
   "cell_type": "code",
   "execution_count": 73,
   "id": "a2d66de4-f8f6-494d-a0c7-ed68b4c3b681",
   "metadata": {},
   "outputs": [],
   "source": [
    "time.sleep(3)\n",
    "download_btn2 = driver.find_element(By.CSS_SELECTOR,\"button[type='submit']\")\n",
    "time.sleep(randint(1,5))\n",
    "download_btn2.click()"
   ]
  },
  {
   "cell_type": "code",
   "execution_count": 74,
   "id": "b59f6f5d-289a-4877-887c-c1c686081366",
   "metadata": {},
   "outputs": [
    {
     "ename": "WebDriverException",
     "evalue": "Message: disconnected: not connected to DevTools\n  (failed to check if window was closed: disconnected: not connected to DevTools)\n  (Session info: chrome=121.0.6167.161)\nStacktrace:\n\tGetHandleVerifier [0x00007FF66E815E42+3538674]\n\t(No symbol) [0x00007FF66E434C02]\n\t(No symbol) [0x00007FF66E2E5AEB]\n\t(No symbol) [0x00007FF66E2D1594]\n\t(No symbol) [0x00007FF66E2D1E5F]\n\t(No symbol) [0x00007FF66E2E6075]\n\t(No symbol) [0x00007FF66E2C234F]\n\t(No symbol) [0x00007FF66E35D277]\n\t(No symbol) [0x00007FF66E34F070]\n\t(No symbol) [0x00007FF66E31F514]\n\t(No symbol) [0x00007FF66E320631]\n\tGetHandleVerifier [0x00007FF66E846CAD+3738973]\n\tGetHandleVerifier [0x00007FF66E89C506+4089270]\n\tGetHandleVerifier [0x00007FF66E894823+4057299]\n\tGetHandleVerifier [0x00007FF66E565C49+720121]\n\t(No symbol) [0x00007FF66E44126F]\n\t(No symbol) [0x00007FF66E43C304]\n\t(No symbol) [0x00007FF66E43C432]\n\t(No symbol) [0x00007FF66E42BD04]\n\tBaseThreadInitThunk [0x00007FFBB9C67344+20]\n\tRtlUserThreadStart [0x00007FFBBB4226B1+33]\n",
     "output_type": "error",
     "traceback": [
      "\u001b[1;31m---------------------------------------------------------------------------\u001b[0m",
      "\u001b[1;31mWebDriverException\u001b[0m                        Traceback (most recent call last)",
      "Cell \u001b[1;32mIn[74], line 1\u001b[0m\n\u001b[1;32m----> 1\u001b[0m \u001b[43mdriver\u001b[49m\u001b[38;5;241;43m.\u001b[39;49m\u001b[43mwindow_handles\u001b[49m\n",
      "File \u001b[1;32m~\\AppData\\Local\\Programs\\Python\\Python311\\Lib\\site-packages\\selenium\\webdriver\\remote\\webdriver.py:494\u001b[0m, in \u001b[0;36mWebDriver.window_handles\u001b[1;34m(self)\u001b[0m\n\u001b[0;32m    485\u001b[0m \u001b[38;5;129m@property\u001b[39m\n\u001b[0;32m    486\u001b[0m \u001b[38;5;28;01mdef\u001b[39;00m \u001b[38;5;21mwindow_handles\u001b[39m(\u001b[38;5;28mself\u001b[39m) \u001b[38;5;241m-\u001b[39m\u001b[38;5;241m>\u001b[39m List[\u001b[38;5;28mstr\u001b[39m]:\n\u001b[0;32m    487\u001b[0m \u001b[38;5;250m    \u001b[39m\u001b[38;5;124;03m\"\"\"Returns the handles of all windows within the current session.\u001b[39;00m\n\u001b[0;32m    488\u001b[0m \n\u001b[0;32m    489\u001b[0m \u001b[38;5;124;03m    :Usage:\u001b[39;00m\n\u001b[1;32m   (...)\u001b[0m\n\u001b[0;32m    492\u001b[0m \u001b[38;5;124;03m            driver.window_handles\u001b[39;00m\n\u001b[0;32m    493\u001b[0m \u001b[38;5;124;03m    \"\"\"\u001b[39;00m\n\u001b[1;32m--> 494\u001b[0m     \u001b[38;5;28;01mreturn\u001b[39;00m \u001b[38;5;28;43mself\u001b[39;49m\u001b[38;5;241;43m.\u001b[39;49m\u001b[43mexecute\u001b[49m\u001b[43m(\u001b[49m\u001b[43mCommand\u001b[49m\u001b[38;5;241;43m.\u001b[39;49m\u001b[43mW3C_GET_WINDOW_HANDLES\u001b[49m\u001b[43m)\u001b[49m[\u001b[38;5;124m\"\u001b[39m\u001b[38;5;124mvalue\u001b[39m\u001b[38;5;124m\"\u001b[39m]\n",
      "File \u001b[1;32m~\\AppData\\Local\\Programs\\Python\\Python311\\Lib\\site-packages\\selenium\\webdriver\\remote\\webdriver.py:347\u001b[0m, in \u001b[0;36mWebDriver.execute\u001b[1;34m(self, driver_command, params)\u001b[0m\n\u001b[0;32m    345\u001b[0m response \u001b[38;5;241m=\u001b[39m \u001b[38;5;28mself\u001b[39m\u001b[38;5;241m.\u001b[39mcommand_executor\u001b[38;5;241m.\u001b[39mexecute(driver_command, params)\n\u001b[0;32m    346\u001b[0m \u001b[38;5;28;01mif\u001b[39;00m response:\n\u001b[1;32m--> 347\u001b[0m     \u001b[38;5;28;43mself\u001b[39;49m\u001b[38;5;241;43m.\u001b[39;49m\u001b[43merror_handler\u001b[49m\u001b[38;5;241;43m.\u001b[39;49m\u001b[43mcheck_response\u001b[49m\u001b[43m(\u001b[49m\u001b[43mresponse\u001b[49m\u001b[43m)\u001b[49m\n\u001b[0;32m    348\u001b[0m     response[\u001b[38;5;124m\"\u001b[39m\u001b[38;5;124mvalue\u001b[39m\u001b[38;5;124m\"\u001b[39m] \u001b[38;5;241m=\u001b[39m \u001b[38;5;28mself\u001b[39m\u001b[38;5;241m.\u001b[39m_unwrap_value(response\u001b[38;5;241m.\u001b[39mget(\u001b[38;5;124m\"\u001b[39m\u001b[38;5;124mvalue\u001b[39m\u001b[38;5;124m\"\u001b[39m, \u001b[38;5;28;01mNone\u001b[39;00m))\n\u001b[0;32m    349\u001b[0m     \u001b[38;5;28;01mreturn\u001b[39;00m response\n",
      "File \u001b[1;32m~\\AppData\\Local\\Programs\\Python\\Python311\\Lib\\site-packages\\selenium\\webdriver\\remote\\errorhandler.py:229\u001b[0m, in \u001b[0;36mErrorHandler.check_response\u001b[1;34m(self, response)\u001b[0m\n\u001b[0;32m    227\u001b[0m         alert_text \u001b[38;5;241m=\u001b[39m value[\u001b[38;5;124m\"\u001b[39m\u001b[38;5;124malert\u001b[39m\u001b[38;5;124m\"\u001b[39m]\u001b[38;5;241m.\u001b[39mget(\u001b[38;5;124m\"\u001b[39m\u001b[38;5;124mtext\u001b[39m\u001b[38;5;124m\"\u001b[39m)\n\u001b[0;32m    228\u001b[0m     \u001b[38;5;28;01mraise\u001b[39;00m exception_class(message, screen, stacktrace, alert_text)  \u001b[38;5;66;03m# type: ignore[call-arg]  # mypy is not smart enough here\u001b[39;00m\n\u001b[1;32m--> 229\u001b[0m \u001b[38;5;28;01mraise\u001b[39;00m exception_class(message, screen, stacktrace)\n",
      "\u001b[1;31mWebDriverException\u001b[0m: Message: disconnected: not connected to DevTools\n  (failed to check if window was closed: disconnected: not connected to DevTools)\n  (Session info: chrome=121.0.6167.161)\nStacktrace:\n\tGetHandleVerifier [0x00007FF66E815E42+3538674]\n\t(No symbol) [0x00007FF66E434C02]\n\t(No symbol) [0x00007FF66E2E5AEB]\n\t(No symbol) [0x00007FF66E2D1594]\n\t(No symbol) [0x00007FF66E2D1E5F]\n\t(No symbol) [0x00007FF66E2E6075]\n\t(No symbol) [0x00007FF66E2C234F]\n\t(No symbol) [0x00007FF66E35D277]\n\t(No symbol) [0x00007FF66E34F070]\n\t(No symbol) [0x00007FF66E31F514]\n\t(No symbol) [0x00007FF66E320631]\n\tGetHandleVerifier [0x00007FF66E846CAD+3738973]\n\tGetHandleVerifier [0x00007FF66E89C506+4089270]\n\tGetHandleVerifier [0x00007FF66E894823+4057299]\n\tGetHandleVerifier [0x00007FF66E565C49+720121]\n\t(No symbol) [0x00007FF66E44126F]\n\t(No symbol) [0x00007FF66E43C304]\n\t(No symbol) [0x00007FF66E43C432]\n\t(No symbol) [0x00007FF66E42BD04]\n\tBaseThreadInitThunk [0x00007FFBB9C67344+20]\n\tRtlUserThreadStart [0x00007FFBBB4226B1+33]\n"
     ]
    }
   ],
   "source": []
  },
  {
   "cell_type": "code",
   "execution_count": null,
   "id": "54f0f132-dafb-4aca-a07c-77eec77bdd08",
   "metadata": {},
   "outputs": [],
   "source": [
    "driver.switch_to.window(driver.window_handles[1])"
   ]
  }
 ],
 "metadata": {
  "kernelspec": {
   "display_name": "Python 3 (ipykernel)",
   "language": "python",
   "name": "python3"
  },
  "language_info": {
   "codemirror_mode": {
    "name": "ipython",
    "version": 3
   },
   "file_extension": ".py",
   "mimetype": "text/x-python",
   "name": "python",
   "nbconvert_exporter": "python",
   "pygments_lexer": "ipython3",
   "version": "3.11.0"
  }
 },
 "nbformat": 4,
 "nbformat_minor": 5
}
