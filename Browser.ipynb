{
 "cells": [
  {
   "cell_type": "code",
   "execution_count": 1,
   "id": "d747c27b-3512-4049-9a82-d991f41ce08a",
   "metadata": {},
   "outputs": [],
   "source": [
    "import time\n",
    "import requests\n",
    "from selenium import webdriver\n",
    "from bs4 import BeautifulSoup\n",
    "from urllib.parse import urljoin\n",
    "import csv\n",
    "import pickle\n",
    "import numpy as np\n",
    "import pandas as pd\n",
    "import pickle\n",
    "from selenium.webdriver.common.by import By\n",
    "from datetime import datetime\n",
    "from selenium.webdriver.chrome.options import Options\n",
    "from selenium.webdriver.common.by import By\n",
    "import os\n",
    "from random import randint\n",
    "from selenium.webdriver.chrome.service import Service\n",
    "from webdriver_manager.chrome import ChromeDriverManager"
   ]
  },
  {
   "cell_type": "code",
   "execution_count": 6,
   "id": "03818298-fdb4-4cb6-a26c-eea9a55e6882",
   "metadata": {},
   "outputs": [],
   "source": [
    "options = Options()\n",
    "\n",
    "options.add_argument('--user-data-dir=/Users/Arian_Gh/AppData/Local/Google/Chrome/User Data/') \n",
    "options.add_argument('--profile-directory=Profile 4')\n",
    "\n",
    "options.add_argument('--disable-blink-features=AutomationControlled')\n",
    "options.add_argument(\"--start-maximized\")\n",
    "\n",
    "options.add_argument('disable-infobars')\n",
    "options.add_experimental_option(\"excludeSwitches\", [\"enable-automation\"])\n",
    "options.add_experimental_option('useAutomationExtension', False)\n",
    "options.add_argument(\"--remote-debugging-port=9222\")\n",
    "\n",
    "prefs = {\n",
    "    \"download.default_directory\": os.getcwd()+'/Downloads',\n",
    "    \"download.prompt_for_download\": False,\n",
    "    \"download.directory_upgrade\": True,\n",
    "    \"safebrowsing.enabled\": True\n",
    "}\n",
    "options.add_experimental_option(\"prefs\", prefs)\n",
    "\n"
   ]
  },
  {
   "cell_type": "code",
   "execution_count": 3,
   "id": "37d232f1-de00-4ed5-9703-c1f4937d7d99",
   "metadata": {},
   "outputs": [],
   "source": [
    "\n",
    "driver.maximize_window()"
   ]
  },
  {
   "cell_type": "code",
   "execution_count": 43,
   "id": "4eeae9c2-92b4-4ef0-bf82-f1954587096a",
   "metadata": {},
   "outputs": [],
   "source": [
    "driver.get('https://www.canva.com/design/DAF8ZAbX2QA/iWN4RirO5r1jRpKUX8Untw/edit')"
   ]
  },
  {
   "cell_type": "code",
   "execution_count": 34,
   "id": "636e27df-e9ca-4881-bf9e-80897dc7038a",
   "metadata": {},
   "outputs": [],
   "source": [
    "bulk_btn = driver.find_element(By.XPATH,\"//*[@id=':r1i:']\")\n",
    "time.sleep(randint(1,4))\n",
    "bulk_btn.click()"
   ]
  },
  {
   "cell_type": "code",
   "execution_count": 35,
   "id": "eb513ede-63e7-4bd1-9b56-f90c31d3a47a",
   "metadata": {},
   "outputs": [],
   "source": [
    "file_input = driver.find_element(By.XPATH, \"//*[@id=':r1j:']/div/div/div/div[2]/div/div/input\")\n",
    "\n",
    "# Now send the file path directly to this input element\n",
    "file_path = \"/Exotic Pets.csv\"  # Update this to the path of your CSV file\n",
    "time.sleep(randint(1,4))\n",
    "file_input.send_keys(os.getcwd(),file_path)"
   ]
  },
  {
   "cell_type": "code",
   "execution_count": 36,
   "id": "758b608f-ad8a-4ad4-beec-6c7f5116d702",
   "metadata": {},
   "outputs": [],
   "source": [
    "continue_btn = driver.find_element(By.XPATH,\"//*[@id=':r1j:']/div/div/div/div[3]/div/button\")\n",
    "time.sleep(randint(1,5))\n",
    "continue_btn.click()"
   ]
  },
  {
   "cell_type": "code",
   "execution_count": 37,
   "id": "feb8ef35-e92c-46ed-9e54-8c28b942a492",
   "metadata": {},
   "outputs": [],
   "source": [
    "generate_btn = driver.find_element(By.XPATH,\"//*[@id=':r1j:']/div/div/div/div[3]/div/div/button\")\n",
    "time.sleep(randint(1,5))\n",
    "generate_btn.click()"
   ]
  },
  {
   "cell_type": "code",
   "execution_count": 41,
   "id": "0451da07-056d-405f-8788-8532a56f5cd6",
   "metadata": {},
   "outputs": [],
   "source": [
    "share_btn = driver.find_element(By.XPATH, \"//*[@id='root']/div/div/div/header/div/nav/div[3]/div[6]/div/div/div/div/div/div/button\")\n",
    "time.sleep(randint(1,5))\n",
    "share_btn.click()"
   ]
  },
  {
   "cell_type": "code",
   "execution_count": 40,
   "id": "a160cb7a-ab29-4a1c-9583-6a3c7be0d7a2",
   "metadata": {},
   "outputs": [],
   "source": [
    "driver.switch_to.window(driver.window_handles[1])"
   ]
  },
  {
   "cell_type": "code",
   "execution_count": null,
   "id": "a2d66de4-f8f6-494d-a0c7-ed68b4c3b681",
   "metadata": {},
   "outputs": [],
   "source": []
  },
  {
   "cell_type": "code",
   "execution_count": null,
   "id": "54f0f132-dafb-4aca-a07c-77eec77bdd08",
   "metadata": {},
   "outputs": [],
   "source": []
  }
 ],
 "metadata": {
  "kernelspec": {
   "display_name": "Python 3 (ipykernel)",
   "language": "python",
   "name": "python3"
  },
  "language_info": {
   "codemirror_mode": {
    "name": "ipython",
    "version": 3
   },
   "file_extension": ".py",
   "mimetype": "text/x-python",
   "name": "python",
   "nbconvert_exporter": "python",
   "pygments_lexer": "ipython3",
   "version": "3.11.0"
  }
 },
 "nbformat": 4,
 "nbformat_minor": 5
}
