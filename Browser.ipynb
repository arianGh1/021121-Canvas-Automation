{
 "cells": [
  {
   "cell_type": "code",
   "execution_count": 88,
   "id": "d747c27b-3512-4049-9a82-d991f41ce08a",
   "metadata": {},
   "outputs": [],
   "source": [
    "import time\n",
    "import requests\n",
    "from selenium import webdriver\n",
    "from bs4 import BeautifulSoup\n",
    "from urllib.parse import urljoin\n",
    "import csv\n",
    "import pickle\n",
    "import numpy as np\n",
    "import pandas as pd\n",
    "import pickle\n",
    "from selenium.webdriver.common.by import By\n",
    "from datetime import datetime\n",
    "from selenium.webdriver.chrome.options import Options\n",
    "from selenium.webdriver.common.by import By\n",
    "import os\n",
    "from random import randint\n",
    "from selenium.webdriver.chrome.service import Service\n",
    "from webdriver_manager.chrome import ChromeDriverManager\n",
    "from selenium.webdriver.common.keys import Keys\n",
    "from datetime import datetime\n",
    "field = \"Exotic Pets\""
   ]
  },
  {
   "cell_type": "code",
   "execution_count": 89,
   "id": "03818298-fdb4-4cb6-a26c-eea9a55e6882",
   "metadata": {},
   "outputs": [],
   "source": [
    "options = Options()\n",
    "\n",
    "options.add_argument('--user-data-dir=/Users/Arian_Gh/AppData/Local/Google/Chrome/User Data/') \n",
    "options.add_argument('--profile-directory=Profile 11')\n",
    "\n",
    "options.add_argument('--disable-blink-features=AutomationControlled')\n",
    "options.add_argument(\"--start-maximized\")\n",
    "\n",
    "options.add_argument('disable-infobars')\n",
    "options.add_experimental_option(\"excludeSwitches\", [\"enable-automation\"])\n",
    "options.add_experimental_option('useAutomationExtension', False)\n",
    "options.add_argument(\"--remote-debugging-port=9222\")\n",
    "\n",
    "prefs = {\n",
    "    \"download.default_directory\":os.path.join( os.getcwd(),'Downs'),\n",
    "    \"download.prompt_for_download\": False,\n",
    "    \"download.directory_upgrade\": True,\n",
    "    \"safebrowsing.enabled\": True\n",
    "}\n",
    "options.add_experimental_option(\"prefs\", prefs)\n",
    "\n"
   ]
  },
  {
   "cell_type": "code",
   "execution_count": 90,
   "id": "37d232f1-de00-4ed5-9703-c1f4937d7d99",
   "metadata": {},
   "outputs": [],
   "source": [
    "driver = webdriver.Chrome(options=options)\n",
    "driver.maximize_window()"
   ]
  },
  {
   "cell_type": "code",
   "execution_count": 106,
   "id": "4eeae9c2-92b4-4ef0-bf82-f1954587096a",
   "metadata": {},
   "outputs": [],
   "source": [
    "time.sleep(2)\n",
    "driver.get('https://www.canva.com/design/DAF8ZAbX2QA/iWN4RirO5r1jRpKUX8Untw/edit')"
   ]
  },
  {
   "cell_type": "code",
   "execution_count": 107,
   "id": "636e27df-e9ca-4881-bf9e-80897dc7038a",
   "metadata": {},
   "outputs": [],
   "source": [
    "time.sleep(3)\n",
    "time.sleep(randint(1,5))\n",
    "bulk_btns = driver.find_elements(By.CLASS_NAME, \"Ve4yyQ\")\n",
    "bulk_btns[-1].click()"
   ]
  },
  {
   "cell_type": "code",
   "execution_count": 93,
   "id": "eb513ede-63e7-4bd1-9b56-f90c31d3a47a",
   "metadata": {},
   "outputs": [],
   "source": [
    "time.sleep(5)\n",
    "file_input = driver.find_element(By.CSS_SELECTOR,\"input[type='file']\")\n",
    "\n",
    "# Now send the file path directly to this input element\n",
    "file_path = \"/Exotic Pets.csv\"  \n",
    "time.sleep(randint(1,4))\n",
    "file_input.send_keys(os.getcwd(),file_path)"
   ]
  },
  {
   "cell_type": "code",
   "execution_count": 94,
   "id": "758b608f-ad8a-4ad4-beec-6c7f5116d702",
   "metadata": {},
   "outputs": [],
   "source": [
    "time.sleep(4)\n",
    "continue_btn = driver.find_element(By.CLASS_NAME,\"iVUNpg\")\n",
    "time.sleep(randint(1,3))\n",
    "continue_btn.click()"
   ]
  },
  {
   "cell_type": "code",
   "execution_count": 95,
   "id": "feb8ef35-e92c-46ed-9e54-8c28b942a492",
   "metadata": {},
   "outputs": [],
   "source": [
    "time.sleep(4)\n",
    "generate_btn = driver.find_element(By.CLASS_NAME,\"iVUNpg\")\n",
    "time.sleep(randint(1,3))\n",
    "generate_btn.click()"
   ]
  },
  {
   "cell_type": "code",
   "execution_count": 96,
   "id": "ca5b9e2d-0830-4212-8e3a-856b35575a5c",
   "metadata": {},
   "outputs": [],
   "source": [
    "time.sleep(2)\n",
    "driver.switch_to.window(driver.window_handles[1])"
   ]
  },
  {
   "cell_type": "code",
   "execution_count": 97,
   "id": "1cfd1c75-03c1-4b41-9011-ecb9cb62bb94",
   "metadata": {},
   "outputs": [],
   "source": [
    "\n",
    "time.sleep(3)\n",
    "input_element = driver.find_element(By.CLASS_NAME, \"EWbX5g\")\n",
    "\n",
    "input_element.clear()\n",
    "time.sleep(3)\n",
    "now = datetime.now()\n",
    "date_time_str = now.strftime(\"%Y%m%d-%H%M%S\")\n",
    "project_name = field + date_time_str\n",
    "\n",
    "input_element.send_keys(project_name)"
   ]
  },
  {
   "cell_type": "code",
   "execution_count": 98,
   "id": "0451da07-056d-405f-8788-8532a56f5cd6",
   "metadata": {},
   "outputs": [],
   "source": [
    "time.sleep(3)\n",
    "share_btn = driver.find_element(By.CLASS_NAME,\"fTSnxg\")\n",
    "time.sleep(randint(1,3))\n",
    "share_btn.click()"
   ]
  },
  {
   "cell_type": "code",
   "execution_count": 99,
   "id": "a160cb7a-ab29-4a1c-9583-6a3c7be0d7a2",
   "metadata": {},
   "outputs": [],
   "source": [
    "time.sleep(2)\n",
    "time.sleep(randint(1,3))\n",
    "download_btn = driver.find_element(By.CSS_SELECTOR, \"button[aria-label='Download']\")\n",
    "download_btn.click()"
   ]
  },
  {
   "cell_type": "code",
   "execution_count": 100,
   "id": "a2d66de4-f8f6-494d-a0c7-ed68b4c3b681",
   "metadata": {},
   "outputs": [],
   "source": [
    "time.sleep(3)\n",
    "download_btn2 = driver.find_element(By.CSS_SELECTOR,\"button[type='submit']\")\n",
    "time.sleep(randint(1,3))\n",
    "download_btn2.click()"
   ]
  },
  {
   "cell_type": "code",
   "execution_count": 102,
   "id": "b59f6f5d-289a-4877-887c-c1c686081366",
   "metadata": {},
   "outputs": [],
   "source": [
    "status = driver.find_element(By.CLASS_NAME,\"wuAAeg\")\n",
    "while \"Completed\" not in status.text:\n",
    "    status = driver.find_element(By.CLASS_NAME,\"wuAAeg\")\n",
    "print(\"Done!\")\n",
    "time.sleep(randint(1,4))"
   ]
  },
  {
   "cell_type": "code",
   "execution_count": 103,
   "id": "54f0f132-dafb-4aca-a07c-77eec77bdd08",
   "metadata": {},
   "outputs": [],
   "source": [
    "driver.close()\n",
    "driver.switch_to.window(driver.window_handles[0])"
   ]
  },
  {
   "cell_type": "code",
   "execution_count": 105,
   "id": "25923447-ca4c-4847-8f32-396a062f7dcc",
   "metadata": {},
   "outputs": [],
   "source": []
  },
  {
   "cell_type": "code",
   "execution_count": null,
   "id": "3bf8d721-980f-4323-ab50-295d04f9292e",
   "metadata": {},
   "outputs": [],
   "source": []
  }
 ],
 "metadata": {
  "kernelspec": {
   "display_name": "Python 3 (ipykernel)",
   "language": "python",
   "name": "python3"
  },
  "language_info": {
   "codemirror_mode": {
    "name": "ipython",
    "version": 3
   },
   "file_extension": ".py",
   "mimetype": "text/x-python",
   "name": "python",
   "nbconvert_exporter": "python",
   "pygments_lexer": "ipython3",
   "version": "3.11.0"
  }
 },
 "nbformat": 4,
 "nbformat_minor": 5
}
